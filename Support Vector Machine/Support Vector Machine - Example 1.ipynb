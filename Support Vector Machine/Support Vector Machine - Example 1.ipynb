{
 "cells": [
  {
   "cell_type": "markdown",
   "metadata": {},
   "source": [
    "<h1>Support Vector Machine</h1>\n",
    "\n",
    "This is an example to how use Support Vector Machine in Python. The example is based in the content from the links bellow:\n",
    "\n",
    "- https://towardsdatascience.com/support-vector-machine-python-example-d67d9b63f1c8"
   ]
  },
  {
   "cell_type": "code",
   "execution_count": 2,
   "metadata": {},
   "outputs": [],
   "source": [
    "import numpy as np\n",
    "import cvxopt\n",
    "from sklearn.datasets.samples_generator import make_blobs\n",
    "from sklearn.model_selection import train_test_split\n",
    "from matplotlib import pyplot as plt\n",
    "from sklearn.svm import LinearSVC\n",
    "from sklearn.metrics import confusion_matrix"
   ]
  },
  {
   "cell_type": "code",
   "execution_count": 6,
   "metadata": {},
   "outputs": [
    {
     "ename": "IndentationError",
     "evalue": "unindent does not match any outer indentation level (<tokenize>, line 40)",
     "output_type": "error",
     "traceback": [
      "\u001b[1;36m  File \u001b[1;32m\"<tokenize>\"\u001b[1;36m, line \u001b[1;32m40\u001b[0m\n\u001b[1;33m    def project(self, X):\u001b[0m\n\u001b[1;37m    ^\u001b[0m\n\u001b[1;31mIndentationError\u001b[0m\u001b[1;31m:\u001b[0m unindent does not match any outer indentation level\n"
     ]
    }
   ],
   "source": [
    "class SVM:\n",
    "    def fit(self, X, y):\n",
    "        n_samples, n_features = X.shape\n",
    "        # P = X^T X\n",
    "        K = np.zeros((n_samples, n_samples))\n",
    "        for i in range(n_samples):\n",
    "            for j in range(n_samples):\n",
    "                K[i,j] = np.dot(X[i], X[j])\n",
    "    P = cvxopt.matrix(np.outer(y, y) * K)\n",
    "    # q = -1 (1xN)\n",
    "            q = cvxopt.matrix(np.ones(n_samples) * -1)\n",
    "    # A = y^T \n",
    "            A = cvxopt.matrix(y, (1, n_samples))\n",
    "    # b = 0 \n",
    "            b = cvxopt.matrix(0.0)\n",
    "    # -1 (NxN)\n",
    "            G = cvxopt.matrix(np.diag(np.ones(n_samples) * -1))\n",
    "    # 0 (1xN)\n",
    "            h = cvxopt.matrix(np.zeros(n_samples))\n",
    "    solution = cvxopt.solvers.qp(P, q, G, h, A, b)\n",
    "    # Lagrange multipliers\n",
    "            a = np.ravel(solution['x'])\n",
    "    # Lagrange have non zero lagrange multipliers\n",
    "            sv = a > 1e-5\n",
    "            ind = np.arange(len(a))[sv]\n",
    "            self.a = a[sv]\n",
    "            self.sv = X[sv]\n",
    "            self.sv_y = y[sv]\n",
    "    # Intercept\n",
    "            self.b = 0\n",
    "            for n in range(len(self.a)):\n",
    "                self.b += self.sv_y[n]\n",
    "                self.b -= np.sum(self.a * self.sv_y * K[ind[n], sv])\n",
    "            self.b /= len(self.a)\n",
    "    # Weights\n",
    "            self.w = np.zeros(n_features)\n",
    "            for n in range(len(self.a)):\n",
    "                self.w += self.a[n] * self.sv_y[n] * self.sv[n]\n",
    "\n",
    "        def project(self, X):\n",
    "            return np.dot(X, self.w) + self.b\n",
    "\n",
    "\n",
    "        def predict(self, X):\n",
    "            return np.sign(self.project(X))"
   ]
  },
  {
   "cell_type": "code",
   "execution_count": null,
   "metadata": {},
   "outputs": [],
   "source": []
  }
 ],
 "metadata": {
  "kernelspec": {
   "display_name": "Python 3",
   "language": "python",
   "name": "python3"
  },
  "language_info": {
   "codemirror_mode": {
    "name": "ipython",
    "version": 3
   },
   "file_extension": ".py",
   "mimetype": "text/x-python",
   "name": "python",
   "nbconvert_exporter": "python",
   "pygments_lexer": "ipython3",
   "version": "3.7.4"
  }
 },
 "nbformat": 4,
 "nbformat_minor": 2
}
